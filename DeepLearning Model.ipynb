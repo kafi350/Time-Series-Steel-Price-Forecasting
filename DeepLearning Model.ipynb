{
  "nbformat": 4,
  "nbformat_minor": 0,
  "metadata": {
    "colab": {
      "name": "Untitled12.ipynb",
      "provenance": []
    },
    "kernelspec": {
      "name": "python3",
      "display_name": "Python 3"
    },
    "language_info": {
      "name": "python"
    }
  },
  "cells": [
    {
      "cell_type": "code",
      "metadata": {
        "id": "dhOIKLuFmC4N"
      },
      "source": [
        "#importing packages\n",
        "\n",
        "import os\n",
        "import numpy as np\n",
        "import pandas as pd\n",
        "import tensorflow as tf\n",
        "import matplotlib.pyplot as plt\n",
        "import sklearn.preprocessing\n",
        "from sklearn.metrics import r2_score\n",
        "from keras.models import Sequential\n",
        "from keras.layers import Dense\n",
        "from keras.layers import Flatten\n",
        "from keras.layers import LSTM\n",
        "from keras.layers import SimpleRNN,Dropout"
      ],
      "execution_count": 1,
      "outputs": []
    },
    {
      "cell_type": "markdown",
      "metadata": {
        "id": "1VkDxkDacQNs"
      },
      "source": [
        "**Dataset Cleaning**"
      ]
    },
    {
      "cell_type": "code",
      "metadata": {
        "id": "3U4vlL4lmK_N"
      },
      "source": [
        "data_steel = pd.read_csv(\"/content/Stainless-Steel-Prices-Forecasty-Assignment.csv\")"
      ],
      "execution_count": 2,
      "outputs": []
    },
    {
      "cell_type": "code",
      "metadata": {
        "colab": {
          "base_uri": "https://localhost:8080/",
          "height": 224
        },
        "id": "RbjEH9dsmbcX",
        "outputId": "d88addb8-1bd7-4755-bc00-2f13e4897860"
      },
      "source": [
        "data_steel.head()"
      ],
      "execution_count": 3,
      "outputs": [
        {
          "output_type": "execute_result",
          "data": {
            "text/html": [
              "<div>\n",
              "<style scoped>\n",
              "    .dataframe tbody tr th:only-of-type {\n",
              "        vertical-align: middle;\n",
              "    }\n",
              "\n",
              "    .dataframe tbody tr th {\n",
              "        vertical-align: top;\n",
              "    }\n",
              "\n",
              "    .dataframe thead th {\n",
              "        text-align: right;\n",
              "    }\n",
              "</style>\n",
              "<table border=\"1\" class=\"dataframe\">\n",
              "  <thead>\n",
              "    <tr style=\"text-align: right;\">\n",
              "      <th></th>\n",
              "      <th>Date</th>\n",
              "      <th>StainlessSteelPrice</th>\n",
              "      <th>Steel_Inventory_M_USD</th>\n",
              "      <th>Steel_Orders_M_USD</th>\n",
              "      <th>IronOre_Global_USD</th>\n",
              "      <th>CoalAustralia_Global_USD</th>\n",
              "      <th>Energy_Index</th>\n",
              "      <th>Nickel_Global_USD</th>\n",
              "      <th>Zinc_Global_USD</th>\n",
              "      <th>Freight_Transport_Index</th>\n",
              "      <th>WTI_Crude_Global_USD</th>\n",
              "      <th>Baltic_Dry_Index</th>\n",
              "      <th>BCI_China</th>\n",
              "      <th>BCI_Europe</th>\n",
              "      <th>BCI_US</th>\n",
              "      <th>CLI_China</th>\n",
              "      <th>CLI_Europe</th>\n",
              "      <th>CLI_US</th>\n",
              "      <th>PMI_US_Manufacturing</th>\n",
              "      <th>Copper_Global_USD</th>\n",
              "    </tr>\n",
              "  </thead>\n",
              "  <tbody>\n",
              "    <tr>\n",
              "      <th>0</th>\n",
              "      <td>7/1/2013</td>\n",
              "      <td>0.827352</td>\n",
              "      <td>20575</td>\n",
              "      <td>10568</td>\n",
              "      <td>127.191304</td>\n",
              "      <td>82.222360</td>\n",
              "      <td>227.022942</td>\n",
              "      <td>13750.31522</td>\n",
              "      <td>1837.619565</td>\n",
              "      <td>-0.4</td>\n",
              "      <td>104.545217</td>\n",
              "      <td>1062</td>\n",
              "      <td>98.80018</td>\n",
              "      <td>99.64265</td>\n",
              "      <td>100.1044</td>\n",
              "      <td>101.1423</td>\n",
              "      <td>99.43615</td>\n",
              "      <td>100.6230</td>\n",
              "      <td>50.9</td>\n",
              "      <td>6906.64</td>\n",
              "    </tr>\n",
              "    <tr>\n",
              "      <th>1</th>\n",
              "      <td>8/1/2013</td>\n",
              "      <td>0.760221</td>\n",
              "      <td>20609</td>\n",
              "      <td>10821</td>\n",
              "      <td>137.055000</td>\n",
              "      <td>82.221429</td>\n",
              "      <td>232.234194</td>\n",
              "      <td>14308.26190</td>\n",
              "      <td>1896.392857</td>\n",
              "      <td>0.5</td>\n",
              "      <td>106.546364</td>\n",
              "      <td>1132</td>\n",
              "      <td>99.04874</td>\n",
              "      <td>99.91766</td>\n",
              "      <td>100.3962</td>\n",
              "      <td>101.1938</td>\n",
              "      <td>99.64082</td>\n",
              "      <td>100.6545</td>\n",
              "      <td>55.4</td>\n",
              "      <td>7186.25</td>\n",
              "    </tr>\n",
              "    <tr>\n",
              "      <th>2</th>\n",
              "      <td>9/1/2013</td>\n",
              "      <td>0.784715</td>\n",
              "      <td>20761</td>\n",
              "      <td>10774</td>\n",
              "      <td>134.185714</td>\n",
              "      <td>83.295918</td>\n",
              "      <td>234.335594</td>\n",
              "      <td>13801.39286</td>\n",
              "      <td>1846.880952</td>\n",
              "      <td>0.1</td>\n",
              "      <td>106.313809</td>\n",
              "      <td>2003</td>\n",
              "      <td>99.27196</td>\n",
              "      <td>100.18490</td>\n",
              "      <td>100.5363</td>\n",
              "      <td>101.2066</td>\n",
              "      <td>99.84383</td>\n",
              "      <td>100.6646</td>\n",
              "      <td>55.7</td>\n",
              "      <td>7159.27</td>\n",
              "    </tr>\n",
              "    <tr>\n",
              "      <th>3</th>\n",
              "      <td>10/1/2013</td>\n",
              "      <td>0.769293</td>\n",
              "      <td>20735</td>\n",
              "      <td>11291</td>\n",
              "      <td>132.572727</td>\n",
              "      <td>85.443634</td>\n",
              "      <td>229.393932</td>\n",
              "      <td>14117.65217</td>\n",
              "      <td>1884.836957</td>\n",
              "      <td>-0.1</td>\n",
              "      <td>100.500435</td>\n",
              "      <td>1504</td>\n",
              "      <td>99.40488</td>\n",
              "      <td>100.36330</td>\n",
              "      <td>100.5771</td>\n",
              "      <td>101.1835</td>\n",
              "      <td>100.02300</td>\n",
              "      <td>100.6666</td>\n",
              "      <td>56.2</td>\n",
              "      <td>7203.02</td>\n",
              "    </tr>\n",
              "    <tr>\n",
              "      <th>4</th>\n",
              "      <td>11/1/2013</td>\n",
              "      <td>0.750242</td>\n",
              "      <td>20854</td>\n",
              "      <td>11559</td>\n",
              "      <td>136.323810</td>\n",
              "      <td>88.363265</td>\n",
              "      <td>225.437049</td>\n",
              "      <td>13684.01190</td>\n",
              "      <td>1866.416667</td>\n",
              "      <td>2.1</td>\n",
              "      <td>93.812381</td>\n",
              "      <td>1821</td>\n",
              "      <td>99.36221</td>\n",
              "      <td>100.49830</td>\n",
              "      <td>100.5459</td>\n",
              "      <td>101.1283</td>\n",
              "      <td>100.17150</td>\n",
              "      <td>100.6744</td>\n",
              "      <td>56.4</td>\n",
              "      <td>7070.65</td>\n",
              "    </tr>\n",
              "  </tbody>\n",
              "</table>\n",
              "</div>"
            ],
            "text/plain": [
              "        Date  StainlessSteelPrice  ...  PMI_US_Manufacturing  Copper_Global_USD \n",
              "0   7/1/2013             0.827352  ...                  50.9             6906.64\n",
              "1   8/1/2013             0.760221  ...                  55.4             7186.25\n",
              "2   9/1/2013             0.784715  ...                  55.7             7159.27\n",
              "3  10/1/2013             0.769293  ...                  56.2             7203.02\n",
              "4  11/1/2013             0.750242  ...                  56.4             7070.65\n",
              "\n",
              "[5 rows x 20 columns]"
            ]
          },
          "metadata": {
            "tags": []
          },
          "execution_count": 3
        }
      ]
    },
    {
      "cell_type": "code",
      "metadata": {
        "id": "tx5102lTmfCV"
      },
      "source": [
        "data_steel['Date'] = pd.to_datetime(data_steel['Date'])"
      ],
      "execution_count": 4,
      "outputs": []
    },
    {
      "cell_type": "code",
      "metadata": {
        "id": "KVcvfaMKmrq3"
      },
      "source": [
        "data_steel.set_index(\"Date\", inplace= True)"
      ],
      "execution_count": 5,
      "outputs": []
    },
    {
      "cell_type": "code",
      "metadata": {
        "id": "Zp2aC6WOmwj9"
      },
      "source": [
        "data_steel.index.freq = \"MS\""
      ],
      "execution_count": 6,
      "outputs": []
    },
    {
      "cell_type": "code",
      "metadata": {
        "id": "sD4d7jrsm32V"
      },
      "source": [
        "dataset = data_steel.copy()"
      ],
      "execution_count": 7,
      "outputs": []
    },
    {
      "cell_type": "code",
      "metadata": {
        "id": "s5mocvjvm_38"
      },
      "source": [
        "dataset.drop(dataset.iloc[:, 1:], inplace = True, axis = 1)"
      ],
      "execution_count": 8,
      "outputs": []
    },
    {
      "cell_type": "code",
      "metadata": {
        "colab": {
          "base_uri": "https://localhost:8080/",
          "height": 235
        },
        "id": "_dLeN1JbnDo7",
        "outputId": "381d1b7e-5afe-4c42-8c21-a410adf049ee"
      },
      "source": [
        "dataset.head()"
      ],
      "execution_count": 9,
      "outputs": [
        {
          "output_type": "execute_result",
          "data": {
            "text/html": [
              "<div>\n",
              "<style scoped>\n",
              "    .dataframe tbody tr th:only-of-type {\n",
              "        vertical-align: middle;\n",
              "    }\n",
              "\n",
              "    .dataframe tbody tr th {\n",
              "        vertical-align: top;\n",
              "    }\n",
              "\n",
              "    .dataframe thead th {\n",
              "        text-align: right;\n",
              "    }\n",
              "</style>\n",
              "<table border=\"1\" class=\"dataframe\">\n",
              "  <thead>\n",
              "    <tr style=\"text-align: right;\">\n",
              "      <th></th>\n",
              "      <th>StainlessSteelPrice</th>\n",
              "    </tr>\n",
              "    <tr>\n",
              "      <th>Date</th>\n",
              "      <th></th>\n",
              "    </tr>\n",
              "  </thead>\n",
              "  <tbody>\n",
              "    <tr>\n",
              "      <th>2013-07-01</th>\n",
              "      <td>0.827352</td>\n",
              "    </tr>\n",
              "    <tr>\n",
              "      <th>2013-08-01</th>\n",
              "      <td>0.760221</td>\n",
              "    </tr>\n",
              "    <tr>\n",
              "      <th>2013-09-01</th>\n",
              "      <td>0.784715</td>\n",
              "    </tr>\n",
              "    <tr>\n",
              "      <th>2013-10-01</th>\n",
              "      <td>0.769293</td>\n",
              "    </tr>\n",
              "    <tr>\n",
              "      <th>2013-11-01</th>\n",
              "      <td>0.750242</td>\n",
              "    </tr>\n",
              "  </tbody>\n",
              "</table>\n",
              "</div>"
            ],
            "text/plain": [
              "            StainlessSteelPrice\n",
              "Date                           \n",
              "2013-07-01             0.827352\n",
              "2013-08-01             0.760221\n",
              "2013-09-01             0.784715\n",
              "2013-10-01             0.769293\n",
              "2013-11-01             0.750242"
            ]
          },
          "metadata": {
            "tags": []
          },
          "execution_count": 9
        }
      ]
    },
    {
      "cell_type": "code",
      "metadata": {
        "colab": {
          "base_uri": "https://localhost:8080/"
        },
        "id": "YDHlQvX4nGcM",
        "outputId": "6e07a704-20a8-4c52-ba8b-db16c1e64815"
      },
      "source": [
        "##Normalizing the whole dataset to see the plot\n",
        "\n",
        "def normalize_data(df):\n",
        "    scaler = sklearn.preprocessing.MinMaxScaler()\n",
        "    df['StainlessSteelPrice']=scaler.fit_transform(df['StainlessSteelPrice'].values.reshape(-1,1))\n",
        "    return df\n",
        "\n",
        "df_norm = normalize_data(dataset)\n",
        "df_norm.shape"
      ],
      "execution_count": 10,
      "outputs": [
        {
          "output_type": "execute_result",
          "data": {
            "text/plain": [
              "(84, 1)"
            ]
          },
          "metadata": {
            "tags": []
          },
          "execution_count": 10
        }
      ]
    },
    {
      "cell_type": "code",
      "metadata": {
        "colab": {
          "base_uri": "https://localhost:8080/",
          "height": 295
        },
        "id": "OAYi8XiWnJIK",
        "outputId": "b6c4e329-35bd-472a-a83d-c81203b5a89e"
      },
      "source": [
        "df_norm.plot(figsize=(16,4),legend=True)\n",
        "\n",
        "plt.title('Price')\n",
        "\n",
        "plt.show()"
      ],
      "execution_count": 11,
      "outputs": [
        {
          "output_type": "display_data",
          "data": {
            "image/png": "[encoded data removed]",
            "text/plain": [
              "<Figure size 1152x288 with 1 Axes>"
            ]
          },
          "metadata": {
            "tags": [],
            "needs_background": "light"
          }
        }
      ]
    },
    {
      "cell_type": "code",
      "metadata": {
        "id": "oQiQU_5-nLOi"
      },
      "source": [
        "##Dataset\n",
        "## As we have only 84 months of data, and as we devided the data into train and test the train data consist of 64 month and test data rest\n",
        "## so according to that we have to build our model\n",
        "\n",
        "def load_data(stock, seq_len):\n",
        "    X_train = []\n",
        "    y_train = []\n",
        "    for i in range(seq_len, len(stock)):\n",
        "        X_train.append(stock.iloc[i-seq_len : i, 0])\n",
        "        y_train.append(stock.iloc[i, 0])\n",
        "    \n",
        "    #1 last 6189 days are going to be used in test\n",
        "    X_test = X_train[64:]             \n",
        "    y_test = y_train[64:]\n",
        "    \n",
        "    #2 first 110000 days are going to be used in training\n",
        "    X_train = X_train[:64]           \n",
        "    y_train = y_train[:64]\n",
        "    \n",
        "    #3 convert to numpy array\n",
        "    X_train = np.array(X_train)\n",
        "    y_train = np.array(y_train)\n",
        "    \n",
        "    X_test = np.array(X_test)\n",
        "    y_test = np.array(y_test)\n",
        "\n",
        "    X_train = np.reshape(X_train, (64, seq_len, 1))\n",
        "    \n",
        "    X_test = np.reshape(X_test, (X_test.shape[0], seq_len, 1))\n",
        "    \n",
        "    return [X_train, y_train, X_test, y_test]"
      ],
      "execution_count": 12,
      "outputs": []
    },
    {
      "cell_type": "code",
      "metadata": {
        "colab": {
          "base_uri": "https://localhost:8080/"
        },
        "id": "FWAKH6yMnPgC",
        "outputId": "ce5d878d-6bfd-4b5e-e931-8b1a6c3b8f63"
      },
      "source": [
        "## 10 seq length\n",
        "\n",
        "seq_len = 10 \n",
        "\n",
        "X_train, y_train, X_test, y_test = load_data(dataset, seq_len)\n",
        "\n",
        "print('X_train.shape = ',X_train.shape)\n",
        "print('y_train.shape = ', y_train.shape)\n",
        "print('X_test.shape = ', X_test.shape)\n",
        "print('y_test.shape = ',y_test.shape)"
      ],
      "execution_count": 13,
      "outputs": [
        {
          "output_type": "stream",
          "text": [
            "X_train.shape =  (64, 10, 1)\n",
            "y_train.shape =  (64,)\n",
            "X_test.shape =  (10, 10, 1)\n",
            "y_test.shape =  (10,)\n"
          ],
          "name": "stdout"
        }
      ]
    },
    {
      "cell_type": "markdown",
      "metadata": {
        "id": "80z3RqXpeEz5"
      },
      "source": [
        "**LSTM MODEL**"
      ]
    },
    {
      "cell_type": "code",
      "metadata": {
        "colab": {
          "base_uri": "https://localhost:8080/"
        },
        "id": "fkKSfbMgnUU6",
        "outputId": "e9484116-f4bf-48ac-c181-361f6d577c52"
      },
      "source": [
        "#Model parameters and model building\n",
        "\n",
        "lstm_model = Sequential()\n",
        "\n",
        "lstm_model.add(LSTM(40,activation=\"relu\",return_sequences=True, input_shape=(X_train.shape[1],1)))\n",
        "lstm_model.add(Dropout(0.20))\n",
        "\n",
        "lstm_model.add(LSTM(40,activation=\"relu\",return_sequences=True))\n",
        "lstm_model.add(Dropout(0.20))\n",
        "\n",
        "lstm_model.add(LSTM(40,activation=\"tanh\",return_sequences=False))\n",
        "lstm_model.add(Dropout(0.20))\n",
        "\n",
        "lstm_model.add(Dense(1))\n",
        "\n",
        "lstm_model.summary()"
      ],
      "execution_count": 20,
      "outputs": [
        {
          "output_type": "stream",
          "text": [
            "Model: \"sequential_3\"\n",
            "_________________________________________________________________\n",
            "Layer (type)                 Output Shape              Param #   \n",
            "=================================================================\n",
            "lstm_9 (LSTM)                (None, 10, 40)            6720      \n",
            "_________________________________________________________________\n",
            "dropout_9 (Dropout)          (None, 10, 40)            0         \n",
            "_________________________________________________________________\n",
            "lstm_10 (LSTM)               (None, 10, 40)            12960     \n",
            "_________________________________________________________________\n",
            "dropout_10 (Dropout)         (None, 10, 40)            0         \n",
            "_________________________________________________________________\n",
            "lstm_11 (LSTM)               (None, 40)                12960     \n",
            "_________________________________________________________________\n",
            "dropout_11 (Dropout)         (None, 40)                0         \n",
            "_________________________________________________________________\n",
            "dense_3 (Dense)              (None, 1)                 41        \n",
            "=================================================================\n",
            "Total params: 32,681\n",
            "Trainable params: 32,681\n",
            "Non-trainable params: 0\n",
            "_________________________________________________________________\n"
          ],
          "name": "stdout"
        }
      ]
    },
    {
      "cell_type": "code",
      "metadata": {
        "colab": {
          "base_uri": "https://localhost:8080/"
        },
        "id": "j_Iyg1kUnZMA",
        "outputId": "dd057590-f768-4db9-9e7f-522a62db51a9"
      },
      "source": [
        "#optimizer = adam and loss is MAPE\n",
        "\n",
        "lstm_model.compile(optimizer=\"adam\",loss=\"MAPE\")\n",
        "lstm_model.fit(X_train, y_train, epochs=10, batch_size=1000)"
      ],
      "execution_count": 21,
      "outputs": [
        {
          "output_type": "stream",
          "text": [
            "Epoch 1/10\n",
            "1/1 [==============================] - 6s 6s/step - loss: 54603.5508\n",
            "Epoch 2/10\n",
            "1/1 [==============================] - 0s 27ms/step - loss: 235928.9219\n",
            "Epoch 3/10\n",
            "1/1 [==============================] - 0s 32ms/step - loss: 178975.6094\n",
            "Epoch 4/10\n",
            "1/1 [==============================] - 0s 31ms/step - loss: 29332.2773\n",
            "Epoch 5/10\n",
            "1/1 [==============================] - 0s 29ms/step - loss: 39952.4297\n",
            "Epoch 6/10\n",
            "1/1 [==============================] - 0s 28ms/step - loss: 90630.9062\n",
            "Epoch 7/10\n",
            "1/1 [==============================] - 0s 31ms/step - loss: 194081.5156\n",
            "Epoch 8/10\n",
            "1/1 [==============================] - 0s 33ms/step - loss: 13135.9287\n",
            "Epoch 9/10\n",
            "1/1 [==============================] - 0s 30ms/step - loss: 24195.5215\n",
            "Epoch 10/10\n",
            "1/1 [==============================] - 0s 39ms/step - loss: 30552.1348\n"
          ],
          "name": "stdout"
        },
        {
          "output_type": "execute_result",
          "data": {
            "text/plain": [
              "<keras.callbacks.History at 0x7f10a532bf50>"
            ]
          },
          "metadata": {
            "tags": []
          },
          "execution_count": 21
        }
      ]
    },
    {
      "cell_type": "code",
      "metadata": {
        "id": "FlFGhOpqycGP"
      },
      "source": [
        "def directional(y, y_hat):\n",
        "    n = len(y)\n",
        "    yd = np.array(y)\n",
        "    y_hatd = np.array(y_hat)\n",
        "    \n",
        "    i = 1\n",
        "    nsum =0\n",
        "    for i in range(1, len(yd)):\n",
        "\n",
        "        if(((yd[i]-yd[i-1]) * (y_hatd[i]-y_hatd[i-1])) > 0):\n",
        "            value = 1\n",
        "            nsum = nsum + value\n",
        "    result = np.multiply(np.divide(100, n-1), nsum)\n",
        "    return result"
      ],
      "execution_count": 23,
      "outputs": []
    },
    {
      "cell_type": "code",
      "metadata": {
        "colab": {
          "base_uri": "https://localhost:8080/"
        },
        "id": "92ih41TSngry",
        "outputId": "fa144301-5c7c-4a8b-8252-96237cf1a330"
      },
      "source": [
        "#prediction\n",
        "\n",
        "lstm_predictions = lstm_model.predict(X_test)\n",
        "dire = directional(y_test, lstm_predictions)\n",
        "lstm_score = r2_score(y_test, lstm_predictions)\n",
        "print(\"Directional Symmetry Score of LSTM model = \",dire)\n",
        "print(\"R^2 Score of LSTM model = \",lstm_score)"
      ],
      "execution_count": 24,
      "outputs": [
        {
          "output_type": "stream",
          "text": [
            "Directional Symmetry Score of LSTM model =  88.88888888888889\n",
            "R^2 Score of LSTM model =  -14.109174389767317\n"
          ],
          "name": "stdout"
        }
      ]
    },
    {
      "cell_type": "code",
      "metadata": {
        "colab": {
          "base_uri": "https://localhost:8080/",
          "height": 295
        },
        "id": "AB8BWcEln51A",
        "outputId": "dca1fbef-d581-4d9e-8c94-d28fe68ee690"
      },
      "source": [
        "def plot_predictions(test, predicted, title):\n",
        "    plt.figure(figsize=(16,4))\n",
        "    plt.plot(test, color='blue',label='Actual Price')\n",
        "    plt.plot(predicted, alpha=0.7, color='orange',label='Predicted Price')\n",
        "    plt.title(title)\n",
        "    plt.xlabel('Time')\n",
        "    plt.ylabel('Price')\n",
        "    plt.legend()\n",
        "    plt.show()\n",
        "    \n",
        "plot_predictions(y_test, lstm_predictions, \"Predictions made by LSTM model\")"
      ],
      "execution_count": 25,
      "outputs": [
        {
          "output_type": "display_data",
          "data": {
            "image/png": "[encoded data removed]",
            "text/plain": [
              "<Figure size 1152x288 with 1 Axes>"
            ]
          },
          "metadata": {
            "tags": [],
            "needs_background": "light"
          }
        }
      ]
    },
    {
      "cell_type": "markdown",
      "metadata": {
        "id": "ZPySkTYId2WS"
      },
      "source": [
        "**RNN MODEL**"
      ]
    },
    {
      "cell_type": "code",
      "metadata": {
        "colab": {
          "base_uri": "https://localhost:8080/"
        },
        "id": "6hkTsCZVoHy-",
        "outputId": "c18eee02-3196-4c43-8756-e3acdd931f93"
      },
      "source": [
        "rnn_model = Sequential()\n",
        "\n",
        "rnn_model.add(SimpleRNN(40,activation=\"relu\",return_sequences=True, input_shape=(X_train.shape[1],1)))\n",
        "rnn_model.add(Dropout(0.15))\n",
        "\n",
        "rnn_model.add(SimpleRNN(40,activation=\"relu\",return_sequences=True))\n",
        "rnn_model.add(Dropout(0.15))\n",
        "\n",
        "rnn_model.add(SimpleRNN(40,activation=\"sigmoid\",return_sequences=False))\n",
        "rnn_model.add(Dropout(0.15))\n",
        "\n",
        "rnn_model.add(Dense(1))\n",
        "\n",
        "rnn_model.summary()"
      ],
      "execution_count": 40,
      "outputs": [
        {
          "output_type": "stream",
          "text": [
            "Model: \"sequential_9\"\n",
            "_________________________________________________________________\n",
            "Layer (type)                 Output Shape              Param #   \n",
            "=================================================================\n",
            "simple_rnn_15 (SimpleRNN)    (None, 10, 40)            1680      \n",
            "_________________________________________________________________\n",
            "dropout_27 (Dropout)         (None, 10, 40)            0         \n",
            "_________________________________________________________________\n",
            "simple_rnn_16 (SimpleRNN)    (None, 10, 40)            3240      \n",
            "_________________________________________________________________\n",
            "dropout_28 (Dropout)         (None, 10, 40)            0         \n",
            "_________________________________________________________________\n",
            "simple_rnn_17 (SimpleRNN)    (None, 40)                3240      \n",
            "_________________________________________________________________\n",
            "dropout_29 (Dropout)         (None, 40)                0         \n",
            "_________________________________________________________________\n",
            "dense_9 (Dense)              (None, 1)                 41        \n",
            "=================================================================\n",
            "Total params: 8,201\n",
            "Trainable params: 8,201\n",
            "Non-trainable params: 0\n",
            "_________________________________________________________________\n"
          ],
          "name": "stdout"
        }
      ]
    },
    {
      "cell_type": "code",
      "metadata": {
        "colab": {
          "base_uri": "https://localhost:8080/"
        },
        "id": "SFZCMizcoOGl",
        "outputId": "5be2f1f7-c8c3-4b63-f42d-1a06a8196968"
      },
      "source": [
        "rnn_model.compile(optimizer=\"adam\",loss=\"MAPE\")\n",
        "rnn_model.fit(X_train, y_train, epochs=10, batch_size=100)"
      ],
      "execution_count": 43,
      "outputs": [
        {
          "output_type": "stream",
          "text": [
            "Epoch 1/10\n",
            "1/1 [==============================] - 4s 4s/step - loss: 3737745.2500\n",
            "Epoch 2/10\n",
            "1/1 [==============================] - 0s 19ms/step - loss: 2286528.5000\n",
            "Epoch 3/10\n",
            "1/1 [==============================] - 0s 15ms/step - loss: 5373889.5000\n",
            "Epoch 4/10\n",
            "1/1 [==============================] - 0s 15ms/step - loss: 4813605.0000\n",
            "Epoch 5/10\n",
            "1/1 [==============================] - 0s 19ms/step - loss: 1115410.5000\n",
            "Epoch 6/10\n",
            "1/1 [==============================] - 0s 18ms/step - loss: 1659315.1250\n",
            "Epoch 7/10\n",
            "1/1 [==============================] - 0s 19ms/step - loss: 811999.2500\n",
            "Epoch 8/10\n",
            "1/1 [==============================] - 0s 15ms/step - loss: 7993526.0000\n",
            "Epoch 9/10\n",
            "1/1 [==============================] - 0s 15ms/step - loss: 5181652.5000\n",
            "Epoch 10/10\n",
            "1/1 [==============================] - 0s 19ms/step - loss: 9401349.0000\n"
          ],
          "name": "stdout"
        },
        {
          "output_type": "execute_result",
          "data": {
            "text/plain": [
              "<keras.callbacks.History at 0x7f109b1cdd50>"
            ]
          },
          "metadata": {
            "tags": []
          },
          "execution_count": 43
        }
      ]
    },
    {
      "cell_type": "code",
      "metadata": {
        "colab": {
          "base_uri": "https://localhost:8080/"
        },
        "id": "_7qXbns_oUCu",
        "outputId": "f31c4a38-66c1-4ec8-9ead-5be0f04a4efa"
      },
      "source": [
        "rnn_predictions = rnn_model.predict(X_test)\n",
        "dire = directional(y_test, rnn_predictions)\n",
        "rnn_score = r2_score(y_test,rnn_predictions)\n",
        "print(\"Directional Symmetry Score of RNN model = \", dire)\n",
        "print(\"R2 Score of RNN model = \",rnn_score)"
      ],
      "execution_count": 45,
      "outputs": [
        {
          "output_type": "stream",
          "text": [
            "Directional Symmetry Score of RNN model =  55.55555555555556\n",
            "R2 Score of RNN model =  -8.959378365713002\n"
          ],
          "name": "stdout"
        }
      ]
    },
    {
      "cell_type": "code",
      "metadata": {
        "colab": {
          "base_uri": "https://localhost:8080/",
          "height": 295
        },
        "id": "LUtSdxW1oZ8u",
        "outputId": "5434f126-3b9a-46b2-e464-ac7056a5ed9b"
      },
      "source": [
        "plot_predictions(y_test, rnn_predictions, \"Predictions made by simple RNN model\")"
      ],
      "execution_count": 46,
      "outputs": [
        {
          "output_type": "display_data",
          "data": {
            "image/png": "[encoded data removed]",
            "text/plain": [
              "<Figure size 1152x288 with 1 Axes>"
            ]
          },
          "metadata": {
            "tags": [],
            "needs_background": "light"
          }
        }
      ]
    },
    {
      "cell_type": "code",
      "metadata": {
        "colab": {
          "base_uri": "https://localhost:8080/",
          "height": 504
        },
        "id": "C92EiKIoofBd",
        "outputId": "c46cc853-871e-410a-80e0-0b4467ea0290"
      },
      "source": [
        "plt.figure(figsize=(15,8))\n",
        "\n",
        "plt.plot(y_test, c=\"orange\", linewidth=3, label=\"Original values\")\n",
        "plt.plot(lstm_predictions, c=\"red\", linewidth=3, label=\"LSTM predictions\")\n",
        "plt.plot(rnn_predictions, alpha=0.5, c=\"green\", linewidth=3, label=\"simple RNN predictions\")\n",
        "plt.legend()\n",
        "plt.title(\"Predictions vs actual data\", fontsize=20)\n",
        "plt.show()"
      ],
      "execution_count": 47,
      "outputs": [
        {
          "output_type": "display_data",
          "data": {
            "image/png": "[encoded data removed]",
            "text/plain": [
              "<Figure size 1080x576 with 1 Axes>"
            ]
          },
          "metadata": {
            "tags": [],
            "needs_background": "light"
          }
        }
      ]
    },
    {
      "cell_type": "markdown",
      "metadata": {
        "id": "HW8LH6oZeO-J"
      },
      "source": [
        "**Hybrid Model**"
      ]
    },
    {
      "cell_type": "code",
      "metadata": {
        "colab": {
          "base_uri": "https://localhost:8080/"
        },
        "id": "HacC5kVhojD-",
        "outputId": "11d52505-aa66-4a98-fe7a-701d92037302"
      },
      "source": [
        "hybrid_model = Sequential()\n",
        "\n",
        "hybrid_model.add(SimpleRNN(40,activation=\"relu\",return_sequences=True, input_shape=(X_train.shape[1],1)))\n",
        "hybrid_model.add(Dropout(0.15))\n",
        "\n",
        "hybrid_model.add(LSTM(40,activation=\"relu\",return_sequences=True))\n",
        "hybrid_model.add(Dropout(0.15))\n",
        "\n",
        "hybrid_model.add(SimpleRNN(40,activation=\"sigmoid\",return_sequences=False))\n",
        "hybrid_model.add(Dropout(0.15))\n",
        "\n",
        "hybrid_model.add(Dense(1))\n",
        "\n",
        "hybrid_model.summary()"
      ],
      "execution_count": 54,
      "outputs": [
        {
          "output_type": "stream",
          "text": [
            "Model: \"sequential_12\"\n",
            "_________________________________________________________________\n",
            "Layer (type)                 Output Shape              Param #   \n",
            "=================================================================\n",
            "simple_rnn_22 (SimpleRNN)    (None, 10, 40)            1680      \n",
            "_________________________________________________________________\n",
            "dropout_36 (Dropout)         (None, 10, 40)            0         \n",
            "_________________________________________________________________\n",
            "lstm_14 (LSTM)               (None, 10, 40)            12960     \n",
            "_________________________________________________________________\n",
            "dropout_37 (Dropout)         (None, 10, 40)            0         \n",
            "_________________________________________________________________\n",
            "simple_rnn_23 (SimpleRNN)    (None, 40)                3240      \n",
            "_________________________________________________________________\n",
            "dropout_38 (Dropout)         (None, 40)                0         \n",
            "_________________________________________________________________\n",
            "dense_12 (Dense)             (None, 1)                 41        \n",
            "=================================================================\n",
            "Total params: 17,921\n",
            "Trainable params: 17,921\n",
            "Non-trainable params: 0\n",
            "_________________________________________________________________\n"
          ],
          "name": "stdout"
        }
      ]
    },
    {
      "cell_type": "code",
      "metadata": {
        "colab": {
          "base_uri": "https://localhost:8080/"
        },
        "id": "Zab40ASXoprV",
        "outputId": "ee9b9b64-7037-423a-9a7d-45863747ad89"
      },
      "source": [
        "hybrid_model.compile(optimizer=\"adam\",loss=\"MAPE\")\n",
        "hybrid_model.fit(X_train, y_train, epochs=10, batch_size=1000)"
      ],
      "execution_count": 55,
      "outputs": [
        {
          "output_type": "stream",
          "text": [
            "Epoch 1/10\n",
            "1/1 [==============================] - 5s 5s/step - loss: 8004178.0000\n",
            "Epoch 2/10\n",
            "1/1 [==============================] - 0s 24ms/step - loss: 3168169.0000\n",
            "Epoch 3/10\n",
            "1/1 [==============================] - 0s 23ms/step - loss: 68944.0703\n",
            "Epoch 4/10\n",
            "1/1 [==============================] - 0s 24ms/step - loss: 11298334.0000\n",
            "Epoch 5/10\n",
            "1/1 [==============================] - 0s 17ms/step - loss: 1846449.0000\n",
            "Epoch 6/10\n",
            "1/1 [==============================] - 0s 23ms/step - loss: 10714457.0000\n",
            "Epoch 7/10\n",
            "1/1 [==============================] - 0s 21ms/step - loss: 6114258.0000\n",
            "Epoch 8/10\n",
            "1/1 [==============================] - 0s 27ms/step - loss: 6401671.5000\n",
            "Epoch 9/10\n",
            "1/1 [==============================] - 0s 28ms/step - loss: 6715959.0000\n",
            "Epoch 10/10\n",
            "1/1 [==============================] - 0s 26ms/step - loss: 1142023.5000\n"
          ],
          "name": "stdout"
        },
        {
          "output_type": "execute_result",
          "data": {
            "text/plain": [
              "<keras.callbacks.History at 0x7f10962d7d90>"
            ]
          },
          "metadata": {
            "tags": []
          },
          "execution_count": 55
        }
      ]
    },
    {
      "cell_type": "code",
      "metadata": {
        "colab": {
          "base_uri": "https://localhost:8080/"
        },
        "id": "esLEfKR_ou42",
        "outputId": "788a4675-3fa6-4167-c0f6-6da42fe09f53"
      },
      "source": [
        "hybrid_predictions = hybrid_model.predict(X_test)\n",
        "dire = directional(y_test, hybrid_predictions)\n",
        "hybrid_score = r2_score(y_test,hybrid_predictions)\n",
        "print(\"Directional Symmetry Score of Hybrid model = \", dire)\n",
        "print(\"R2 Score of RNN-LSTM model = \",hybrid_score)"
      ],
      "execution_count": 56,
      "outputs": [
        {
          "output_type": "stream",
          "text": [
            "Directional Symmetry Score of Hybrid model =  66.66666666666666\n",
            "R2 Score of RNN-LSTM model =  -12.649624113586075\n"
          ],
          "name": "stdout"
        }
      ]
    },
    {
      "cell_type": "code",
      "metadata": {
        "colab": {
          "base_uri": "https://localhost:8080/",
          "height": 295
        },
        "id": "TeaGdELfozBt",
        "outputId": "61b13c2a-54b6-4911-cff0-bd9439137135"
      },
      "source": [
        "plot_predictions(y_test, hybrid_predictions, \"Predictions made by Hybrid model\")"
      ],
      "execution_count": 57,
      "outputs": [
        {
          "output_type": "display_data",
          "data": {
            "image/png": "[encoded data removed]",
            "text/plain": [
              "<Figure size 1152x288 with 1 Axes>"
            ]
          },
          "metadata": {
            "tags": [],
            "needs_background": "light"
          }
        }
      ]
    },
    {
      "cell_type": "markdown",
      "metadata": {
        "id": "coYwm10T0zRF"
      },
      "source": [
        "I tried the LSTM, RNN and Hybrid method for the prediction. Results are not good enough and the deep learning algorithms failed.\n",
        "\n",
        "I changed the hyperparameters and activation functions to (relu, tanh and sigmoid) check the result. sigmoid on the last layer gives a better DS value and MAPE value. However, tanh gives the worst result. \n",
        "\n"
      ]
    }
  ]
}